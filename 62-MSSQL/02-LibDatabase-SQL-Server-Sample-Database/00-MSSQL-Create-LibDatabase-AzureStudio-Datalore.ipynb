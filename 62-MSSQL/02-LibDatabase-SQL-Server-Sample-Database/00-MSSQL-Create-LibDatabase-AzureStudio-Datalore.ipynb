{
    "metadata": {
        "kernelspec": {
            "name": "SQL",
            "display_name": "SQL",
            "language": "sql"
        },
        "language_info": {
            "name": "sql",
            "version": ""
        }
    },
    "nbformat_minor": 2,
    "nbformat": 4,
    "cells": [
        {
            "cell_type": "markdown",
            "source": [
                "# **Session 1**"
            ],
            "metadata": {
                "azdata_cell_guid": "d4220500-b647-46b2-aeb3-ccd63f51a796",
                "language": "sql"
            },
            "attachments": {}
        },
        {
            "cell_type": "markdown",
            "source": [
                "## 1.CREATE&nbsp;DATABASE&nbsp;LibDatabase"
            ],
            "metadata": {
                "azdata_cell_guid": "c168246c-c85c-4501-b268-7c513f48f150",
                "language": "sql"
            },
            "attachments": {}
        },
        {
            "cell_type": "code",
            "source": [
                "USE master;\n",
                "GO\n",
                "\n",
                "CREATE DATABASE LibDatabase;\n",
                "GO\n",
                "\n",
                "USE LibDatabase;\n",
                "GO\n",
                "\n",
                "--Create Two Schemas\n",
                "CREATE SCHEMA Book;\n",
                "GO\n",
                "CREATE SCHEMA Person;\n",
                "GO"
            ],
            "metadata": {
                "azdata_cell_guid": "ae644887-71d5-4036-94ed-570e87e83603",
                "language": "sql",
                "tags": []
            },
            "outputs": [
                {
                    "output_type": "display_data",
                    "data": {
                        "text/html": "Query was canceled by user"
                    },
                    "metadata": {}
                },
                {
                    "output_type": "display_data",
                    "data": {
                        "text/html": "Commands completed successfully."
                    },
                    "metadata": {}
                },
                {
                    "output_type": "display_data",
                    "data": {
                        "text/html": "Commands completed successfully."
                    },
                    "metadata": {}
                },
                {
                    "output_type": "display_data",
                    "data": {
                        "text/html": "Commands completed successfully."
                    },
                    "metadata": {}
                },
                {
                    "output_type": "display_data",
                    "data": {
                        "text/html": "Commands completed successfully."
                    },
                    "metadata": {}
                },
                {
                    "output_type": "display_data",
                    "data": {
                        "text/html": "Total execution time: 00:00:01.007"
                    },
                    "metadata": {}
                }
            ],
            "execution_count": 4
        },
        {
            "cell_type": "code",
            "source": [
                "--create Book.Author table\n",
                "CREATE TABLE [Book].[Author](\n",
                "\t[Author_ID] [int],\n",
                "\t[Author_FirstName] [nvarchar](50) Not NULL,\n",
                "\t[Author_LastName] [nvarchar](50) Not NULL\n",
                ");\n",
                "\n",
                "--create Publisher Table\n",
                "CREATE TABLE [Book].[Publisher](\n",
                "\t[Publisher_ID] [int] PRIMARY KEY IDENTITY(1,1) NOT NULL,\n",
                "\t[Publisher_Name] [nvarchar](100) NULL\n",
                ");\n",
                "\n",
                "--create Book.Book table\n",
                "CREATE TABLE [Book].[Book](\n",
                "\t[Book_ID] [int] PRIMARY KEY NOT NULL,\n",
                "\t[Book_Name] [nvarchar](50) NOT NULL,\n",
                "\tAuthor_ID INT NOT NULL,\n",
                "\tPublisher_ID INT NOT NULL\n",
                ");\n",
                "\n",
                "--create Person.Person table\n",
                "CREATE TABLE [Person].[Person](\n",
                "\t[SSN] [bigint] PRIMARY KEY NOT NULL,\n",
                "\t[Person_FirstName] [nvarchar](50) NULL,\n",
                "\t[Person_LastName] [nvarchar](50) NULL\n",
                ");\n",
                "\n",
                "--cretae Person.Person_Phone table\n",
                "CREATE TABLE [Person].[Person_Phone](\n",
                "\t[Phone_Number] [bigint] PRIMARY KEY NOT NULL,\n",
                "\t[SSN] [bigint] NOT NULL\t\n",
                ");\n",
                "\n",
                "--cretae Person.Person_Mail table\n",
                "CREATE TABLE [Person].[Person_Mail](\n",
                "\t[Mail_ID] INT PRIMARY KEY IDENTITY (1,1),\n",
                "\t[Mail] NVARCHAR(MAX) NOT NULL,\n",
                "\t[SSN] BIGINT UNIQUE NOT NULL\t\n",
                ");\n",
                "\n",
                "--create Person.Loan table\n",
                "CREATE TABLE [Person].[Loan](\n",
                "\t[SSN] BIGINT NOT NULL,\n",
                "\t[Book_ID] INT NOT NULL,\n",
                "\n",
                "\tPRIMARY KEY ([SSN], [Book_ID])\n",
                ");"
            ],
            "metadata": {
                "azdata_cell_guid": "057ac25a-b471-4f34-abbc-245d14fedc52",
                "language": "sql"
            },
            "outputs": [
                {
                    "output_type": "display_data",
                    "data": {
                        "text/html": "Commands completed successfully."
                    },
                    "metadata": {}
                },
                {
                    "output_type": "display_data",
                    "data": {
                        "text/html": "Total execution time: 00:00:00.107"
                    },
                    "metadata": {}
                }
            ],
            "execution_count": 5
        },
        {
            "cell_type": "code",
            "source": [
                "SELECT  *\r\n",
                "FROM    Book.Author;"
            ],
            "metadata": {
                "azdata_cell_guid": "edb7ea7d-1f46-464c-8d1f-2e7d455e53f4",
                "language": "sql"
            },
            "outputs": [
                {
                    "output_type": "display_data",
                    "data": {
                        "text/html": "(0 rows affected)"
                    },
                    "metadata": {}
                },
                {
                    "output_type": "display_data",
                    "data": {
                        "text/html": "Total execution time: 00:00:00.004"
                    },
                    "metadata": {}
                },
                {
                    "output_type": "execute_result",
                    "metadata": {},
                    "execution_count": 6,
                    "data": {
                        "application/vnd.dataresource+json": {
                            "schema": {
                                "fields": [
                                    {
                                        "name": "Author_ID"
                                    },
                                    {
                                        "name": "Author_FirstName"
                                    },
                                    {
                                        "name": "Author_LastName"
                                    }
                                ]
                            },
                            "data": []
                        },
                        "text/html": [
                            "<table>",
                            "<tr><th>Author_ID</th><th>Author_FirstName</th><th>Author_LastName</th></tr>",
                            "</table>"
                        ]
                    }
                }
            ],
            "execution_count": 6
        }
    ]
}