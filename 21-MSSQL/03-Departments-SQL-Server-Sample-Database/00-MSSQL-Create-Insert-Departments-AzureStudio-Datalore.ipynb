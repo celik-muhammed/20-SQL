{
    "metadata": {
        "kernelspec": {
            "name": "SQL",
            "display_name": "SQL",
            "language": "sql"
        },
        "language_info": {
            "name": "sql",
            "version": ""
        }
    },
    "nbformat_minor": 2,
    "nbformat": 4,
    "cells": [
        {
            "cell_type": "code",
            "source": [
                "USE master;\r\n",
                "GO\r\n",
                "\r\n",
                "CREATE DATABASE Departments;\r\n",
                "GO\r\n",
                "\r\n",
                "USE Departments;\r\n",
                "GO"
            ],
            "metadata": {
                "azdata_cell_guid": "b50a5748-4557-4226-8182-c3307f18e121",
                "language": "sql"
            },
            "outputs": [
                {
                    "output_type": "display_data",
                    "data": {
                        "text/html": "Commands completed successfully."
                    },
                    "metadata": {}
                },
                {
                    "output_type": "display_data",
                    "data": {
                        "text/html": "Commands completed successfully."
                    },
                    "metadata": {}
                },
                {
                    "output_type": "display_data",
                    "data": {
                        "text/html": "Commands completed successfully."
                    },
                    "metadata": {}
                },
                {
                    "output_type": "display_data",
                    "data": {
                        "text/html": "Total execution time: 00:00:01.187"
                    },
                    "metadata": {}
                }
            ],
            "execution_count": 2
        },
        {
            "cell_type": "code",
            "source": [
                "DROP TABLE IF EXISTS departments;\r\n",
                "\r\n",
                "CREATE TABLE departments (\r\n",
                "\tid BIGINT NOT NULL,\r\n",
                "\tname VARCHAR(20) NULL,\r\n",
                "\tdept_name VARCHAR(20) NULL,\r\n",
                "\tseniority VARCHAR(20) NULL,\r\n",
                "\tgraduation VARCHAR(20) NULL,\r\n",
                "\tsalary BIGINT NULL,\r\n",
                "\thire_date DATE NULL,\r\n",
                "\r\n",
                "    CONSTRAINT pk_1 PRIMARY KEY (id)\r\n",
                " ) ;\r\n",
                "\r\n",
                " ALTER TABLE departments\r\n",
                "ADD CONSTRAINT unique_id_constraint UNIQUE (id);\r\n",
                "\r\n",
                "INSERT departments (id, name, dept_name, seniority, graduation, salary, hire_date)\r\n",
                "VALUES\r\n",
                "(10238,\t'Eric'\t   ,'Economics'\t\t\t,'Experienced'\t,'MSc' ,72000\t,'2019-12-01'),\r\n",
                "(13378,\t'Karl'\t   ,'Music'\t\t\t\t,'Candidate'\t,'BSc' ,42000\t,'2022-01-01'),\r\n",
                "(23493,\t'Jason'\t   ,'Philosophy'       ,'Candidate'\t\t,'MSc' ,45000\t,'2022-01-01'),\r\n",
                "(30766,\t'Jack'     ,'Economics'\t       ,'Experienced'\t,'BSc' ,68000\t,'2020-06-04'),\r\n",
                "(36299,\t'Jane'\t   ,'Computer Science' ,'Senior'\t\t,'PhD' ,91000\t,'2018-05-15'),\r\n",
                "(40284,\t'Mary'\t   ,'Psychology'       ,'Experienced'\t,'MSc' ,78000\t,'2019-10-22'),\r\n",
                "(43087,\t'Brian'\t   ,'Physics'\t       ,'Senior'\t\t,'PhD' ,93000\t,'2017-08-18'),\r\n",
                "(53695,\t'Richard'  ,'Philosophy'       ,'Candidate'\t\t,'PhD' ,54000\t,'2021-12-17'),\r\n",
                "(58248,\t'Joseph'   ,'Political Science','Experienced'\t,'BSc' ,58000\t,'2021-09-25'),\r\n",
                "(63172,\t'David'\t   ,'Art History'      ,'Experienced'\t,'BSc' ,65000\t,'2021-03-11'),\r\n",
                "(64378,\t'Elvis'\t   ,'Physics'\t       ,'Senior'\t\t,'MSc' ,87000\t,'2018-11-23'),\r\n",
                "(96945,\t'John'\t   ,'Computer Science' ,'Experienced'\t,'MSc' ,80000\t,'2019-04-20'),\r\n",
                "(99231,\t'Santosh'  ,'Computer Science' ,'Experienced'\t,'BSc' ,74000\t,'2020-05-07');"
            ],
            "metadata": {
                "language": "sql",
                "azdata_cell_guid": "e5850d47-eb34-4ea2-ac91-94c32514d44b"
            },
            "outputs": [
                {
                    "output_type": "display_data",
                    "data": {
                        "text/html": "(13 rows affected)"
                    },
                    "metadata": {}
                },
                {
                    "output_type": "display_data",
                    "data": {
                        "text/html": "Total execution time: 00:00:00.117"
                    },
                    "metadata": {}
                }
            ],
            "execution_count": 3
        },
        {
            "cell_type": "code",
            "source": [
                "SELECT  *\r\n",
                "FROM    departments;"
            ],
            "metadata": {
                "language": "sql",
                "azdata_cell_guid": "e7cfcf50-2d6c-4700-8cf7-ca30618a3b1a"
            },
            "outputs": [
                {
                    "output_type": "display_data",
                    "data": {
                        "text/html": "(13 rows affected)"
                    },
                    "metadata": {}
                },
                {
                    "output_type": "display_data",
                    "data": {
                        "text/html": "Total execution time: 00:00:00.011"
                    },
                    "metadata": {}
                },
                {
                    "output_type": "execute_result",
                    "metadata": {},
                    "execution_count": 4,
                    "data": {
                        "application/vnd.dataresource+json": {
                            "schema": {
                                "fields": [
                                    {
                                        "name": "id"
                                    },
                                    {
                                        "name": "name"
                                    },
                                    {
                                        "name": "dept_name"
                                    },
                                    {
                                        "name": "seniority"
                                    },
                                    {
                                        "name": "graduation"
                                    },
                                    {
                                        "name": "salary"
                                    },
                                    {
                                        "name": "hire_date"
                                    }
                                ]
                            },
                            "data": [
                                {
                                    "0": "10238",
                                    "1": "Eric",
                                    "2": "Economics",
                                    "3": "Experienced",
                                    "4": "MSc",
                                    "5": "72000",
                                    "6": "2019-12-01"
                                },
                                {
                                    "0": "13378",
                                    "1": "Karl",
                                    "2": "Music",
                                    "3": "Candidate",
                                    "4": "BSc",
                                    "5": "42000",
                                    "6": "2022-01-01"
                                },
                                {
                                    "0": "23493",
                                    "1": "Jason",
                                    "2": "Philosophy",
                                    "3": "Candidate",
                                    "4": "MSc",
                                    "5": "45000",
                                    "6": "2022-01-01"
                                },
                                {
                                    "0": "30766",
                                    "1": "Jack",
                                    "2": "Economics",
                                    "3": "Experienced",
                                    "4": "BSc",
                                    "5": "68000",
                                    "6": "2020-06-04"
                                },
                                {
                                    "0": "36299",
                                    "1": "Jane",
                                    "2": "Computer Science",
                                    "3": "Senior",
                                    "4": "PhD",
                                    "5": "91000",
                                    "6": "2018-05-15"
                                },
                                {
                                    "0": "40284",
                                    "1": "Mary",
                                    "2": "Psychology",
                                    "3": "Experienced",
                                    "4": "MSc",
                                    "5": "78000",
                                    "6": "2019-10-22"
                                },
                                {
                                    "0": "43087",
                                    "1": "Brian",
                                    "2": "Physics",
                                    "3": "Senior",
                                    "4": "PhD",
                                    "5": "93000",
                                    "6": "2017-08-18"
                                },
                                {
                                    "0": "53695",
                                    "1": "Richard",
                                    "2": "Philosophy",
                                    "3": "Candidate",
                                    "4": "PhD",
                                    "5": "54000",
                                    "6": "2021-12-17"
                                },
                                {
                                    "0": "58248",
                                    "1": "Joseph",
                                    "2": "Political Science",
                                    "3": "Experienced",
                                    "4": "BSc",
                                    "5": "58000",
                                    "6": "2021-09-25"
                                },
                                {
                                    "0": "63172",
                                    "1": "David",
                                    "2": "Art History",
                                    "3": "Experienced",
                                    "4": "BSc",
                                    "5": "65000",
                                    "6": "2021-03-11"
                                },
                                {
                                    "0": "64378",
                                    "1": "Elvis",
                                    "2": "Physics",
                                    "3": "Senior",
                                    "4": "MSc",
                                    "5": "87000",
                                    "6": "2018-11-23"
                                },
                                {
                                    "0": "96945",
                                    "1": "John",
                                    "2": "Computer Science",
                                    "3": "Experienced",
                                    "4": "MSc",
                                    "5": "80000",
                                    "6": "2019-04-20"
                                },
                                {
                                    "0": "99231",
                                    "1": "Santosh",
                                    "2": "Computer Science",
                                    "3": "Experienced",
                                    "4": "BSc",
                                    "5": "74000",
                                    "6": "2020-05-07"
                                }
                            ]
                        },
                        "text/html": [
                            "<table>",
                            "<tr><th>id</th><th>name</th><th>dept_name</th><th>seniority</th><th>graduation</th><th>salary</th><th>hire_date</th></tr>",
                            "<tr><td>10238</td><td>Eric</td><td>Economics</td><td>Experienced</td><td>MSc</td><td>72000</td><td>2019-12-01</td></tr>",
                            "<tr><td>13378</td><td>Karl</td><td>Music</td><td>Candidate</td><td>BSc</td><td>42000</td><td>2022-01-01</td></tr>",
                            "<tr><td>23493</td><td>Jason</td><td>Philosophy</td><td>Candidate</td><td>MSc</td><td>45000</td><td>2022-01-01</td></tr>",
                            "<tr><td>30766</td><td>Jack</td><td>Economics</td><td>Experienced</td><td>BSc</td><td>68000</td><td>2020-06-04</td></tr>",
                            "<tr><td>36299</td><td>Jane</td><td>Computer Science</td><td>Senior</td><td>PhD</td><td>91000</td><td>2018-05-15</td></tr>",
                            "<tr><td>40284</td><td>Mary</td><td>Psychology</td><td>Experienced</td><td>MSc</td><td>78000</td><td>2019-10-22</td></tr>",
                            "<tr><td>43087</td><td>Brian</td><td>Physics</td><td>Senior</td><td>PhD</td><td>93000</td><td>2017-08-18</td></tr>",
                            "<tr><td>53695</td><td>Richard</td><td>Philosophy</td><td>Candidate</td><td>PhD</td><td>54000</td><td>2021-12-17</td></tr>",
                            "<tr><td>58248</td><td>Joseph</td><td>Political Science</td><td>Experienced</td><td>BSc</td><td>58000</td><td>2021-09-25</td></tr>",
                            "<tr><td>63172</td><td>David</td><td>Art History</td><td>Experienced</td><td>BSc</td><td>65000</td><td>2021-03-11</td></tr>",
                            "<tr><td>64378</td><td>Elvis</td><td>Physics</td><td>Senior</td><td>MSc</td><td>87000</td><td>2018-11-23</td></tr>",
                            "<tr><td>96945</td><td>John</td><td>Computer Science</td><td>Experienced</td><td>MSc</td><td>80000</td><td>2019-04-20</td></tr>",
                            "<tr><td>99231</td><td>Santosh</td><td>Computer Science</td><td>Experienced</td><td>BSc</td><td>74000</td><td>2020-05-07</td></tr>",
                            "</table>"
                        ]
                    }
                }
            ],
            "execution_count": 4
        }
    ]
}